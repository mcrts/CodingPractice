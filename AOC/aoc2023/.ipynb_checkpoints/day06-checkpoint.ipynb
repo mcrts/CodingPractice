{
 "cells": [
  {
   "cell_type": "code",
   "execution_count": 36,
   "id": "fa91fa8c-ddef-415c-a6fc-149eb5aa9c76",
   "metadata": {},
   "outputs": [],
   "source": [
    "import matplotlib.pyplot as plt\n",
    "import itertools as I\n",
    "import math as M\n",
    "\n",
    "def Fdistance(T):\n",
    "    def fun(t):\n",
    "        return -t**2 + T*t\n",
    "    return fun\n",
    "    \n",
    "def solve_quad(a, b, c):\n",
    "    D = (b**2) - (4*a*c)\n",
    "    if D < 0:\n",
    "        return None, None\n",
    "    elif D == 0:\n",
    "        return (-b / (2*a), -b / (2*a))\n",
    "    elif D > 0:\n",
    "        x0 = (-b - M.sqrt(D)) / (2*a)\n",
    "        x1 = (-b + M.sqrt(D)) / (2*a)\n",
    "        return x1, x0\n",
    "\n",
    "def solve(t, d):\n",
    "    x0, x1 = solve_quad(-1, t, -d)\n",
    "    if x0:\n",
    "        x0 = M.ceil(x0)\n",
    "    if x1:\n",
    "        x1 = M.floor(x1)\n",
    "    return x0, x1\n",
    "    "
   ]
  },
  {
   "cell_type": "code",
   "execution_count": 37,
   "id": "c39bd64f-1de9-4baa-8423-db4a3d6083d1",
   "metadata": {},
   "outputs": [
    {
     "data": {
      "text/plain": [
       "(2, 6)"
      ]
     },
     "execution_count": 37,
     "metadata": {},
     "output_type": "execute_result"
    }
   ],
   "source": [
    "T = 7\n",
    "d = 9\n",
    "\n",
    "solve(T, d)"
   ]
  },
  {
   "cell_type": "code",
   "execution_count": null,
   "id": "0a3fa1d3-6049-45e9-9265-e09c182045b0",
   "metadata": {},
   "outputs": [],
   "source": []
  }
 ],
 "metadata": {
  "kernelspec": {
   "display_name": "Python 3 (ipykernel)",
   "language": "python",
   "name": "python3"
  },
  "language_info": {
   "codemirror_mode": {
    "name": "ipython",
    "version": 3
   },
   "file_extension": ".py",
   "mimetype": "text/x-python",
   "name": "python",
   "nbconvert_exporter": "python",
   "pygments_lexer": "ipython3",
   "version": "3.10.12"
  }
 },
 "nbformat": 4,
 "nbformat_minor": 5
}
